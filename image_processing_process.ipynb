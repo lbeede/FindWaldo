{
 "cells": [
  {
   "cell_type": "markdown",
   "metadata": {},
   "source": [
    "# How we did our image preprocessing"
   ]
  },
  {
   "cell_type": "code",
   "execution_count": null,
   "metadata": {},
   "outputs": [],
   "source": [
    "from image_processing import load_annotations, crop_and_size_with_bbox, chop_cropped_images,adjust_bbox_for_patch\n",
    "import os\n",
    "import shutil"
   ]
  },
  {
   "cell_type": "code",
   "execution_count": null,
   "metadata": {},
   "outputs": [],
   "source": [
    "# Set the directory paths\n",
    "annotation_dir = os.getcwd() + '/annotations/bnd_box'  # Folder containing your XML files.\n",
    "images_folder = os.getcwd() + '/annotations/original_imgs'       # Folder containing your images.\n",
    "\n",
    "# Load the annotations from XML files.\n",
    "annotations = load_annotations(annotation_dir)"
   ]
  },
  {
   "cell_type": "code",
   "execution_count": null,
   "metadata": {},
   "outputs": [],
   "source": [
    "# Cropping the original images such that we get the same size of all\n",
    "# Just a normalization task\n",
    "\n",
    "new_annots = crop_and_size_with_bbox(os.getcwd()+'/annotations/original_imgs',\n",
    "                                     os.getcwd()+'/cropped-and-resized', (1024, 1024),\n",
    "                                     annotations)"
   ]
  },
  {
   "cell_type": "code",
   "execution_count": null,
   "metadata": {},
   "outputs": [],
   "source": [
    "# From these cropped images, we need to chop them into smaller patches\n",
    "# and adjust the bounding boxes accordingly.\n",
    "# The patches will be of size 256, 128, and 64 pixels.\n",
    "\n",
    "patch_annots256 = chop_cropped_images(256, 'cropped-and-resized', 'chopped-256', new_annots)\n",
    "patch_annots128 = chop_cropped_images(128, 'cropped-and-resized', 'chopped-128', new_annots)\n",
    "patch_annots64 = chop_cropped_images(64, 'cropped-and-resized', 'chopped-64', new_annots)"
   ]
  },
  {
   "cell_type": "code",
   "execution_count": null,
   "metadata": {},
   "outputs": [],
   "source": [
    "# Now, we need to sort the images into two folders: 'waldo' and 'notwaldo'\n",
    "# based on the presence of Waldo in each patch.\n",
    "\n",
    "for i, new_img_res in enumerate([patch_annots256, patch_annots128, patch_annots64]):\n",
    "    # print(i)\n",
    "    if i == 0:\n",
    "        chopped_folder = os.getcwd()+'/chopped-256'\n",
    "    elif i == 1:\n",
    "        chopped_folder = os.getcwd()+'/chopped-128'\n",
    "    elif i == 2:\n",
    "        chopped_folder = os.getcwd()+'/chopped-64'\n",
    "\n",
    "    # Define destination folders for Waldo and not Waldo images\n",
    "    waldo_folder = os.path.join(chopped_folder, 'waldo')\n",
    "    notwaldo_folder = os.path.join(chopped_folder, 'notwaldo')\n",
    "\n",
    "    # Create destination folders if they don't exist\n",
    "    os.makedirs(waldo_folder, exist_ok=True)\n",
    "    os.makedirs(notwaldo_folder, exist_ok=True)\n",
    "    for filename, data in new_img_res.items():\n",
    "\n",
    "        src_path = os.path.join(chopped_folder, filename)\n",
    "        # Check if the file exists before moving it\n",
    "        if not os.path.exists(src_path):\n",
    "            print(f\"File {filename} not found in {chopped_folder}.\")\n",
    "            continue\n",
    "\n",
    "        # Decide the destination based on bbox\n",
    "        if data.get('bbox') is not None:\n",
    "            dest_path = os.path.join(waldo_folder, filename)\n",
    "        else:\n",
    "            dest_path = os.path.join(notwaldo_folder, filename)\n",
    "        \n",
    "        # Move the file from the source folder to the destination folder\n",
    "        shutil.move(src_path, dest_path)"
   ]
  },
  {
   "cell_type": "code",
   "execution_count": null,
   "metadata": {},
   "outputs": [],
   "source": [
    "patches = [256, 128, 64]\n",
    "\n",
    "# Now we need to create CSV files for each patch size\n",
    "for patch in patches:\n",
    "    # Select the corresponding patch annotations dictionary\n",
    "    if patch == 256:\n",
    "        patch_annot = patch_annots256\n",
    "    elif patch == 128:\n",
    "        patch_annot = patch_annots128\n",
    "    else:\n",
    "        patch_annot = patch_annots64\n",
    "\n",
    "    # Define the output folder for the patch size\n",
    "    output_folder = os.path.join(os.getcwd(), 'annotations', 'imgs', str(patch))\n",
    "    os.makedirs(output_folder, exist_ok=True)\n",
    "    \n",
    "    # Define a single CSV file for all patches of this size\n",
    "    csv_path = os.path.join(output_folder, f\"patch_annotations_{patch}.csv\")\n",
    "    \n",
    "    with open(csv_path, 'w', newline='') as csvfile:\n",
    "        # Define the fieldnames in the desired order\n",
    "        fieldnames = ['filename', 'width', 'height', 'label', 'startX', 'startY', 'endX', 'endY']\n",
    "        writer = csv.DictWriter(csvfile, fieldnames=fieldnames)\n",
    "        writer.writeheader()\n",
    "        \n",
    "        # Loop over each entry in the patch annotations dictionary\n",
    "        for filename, values in patch_annot.items():\n",
    "            bbox = values.get('bbox')\n",
    "            if bbox is None:\n",
    "                row = {\n",
    "                    'filename': filename,\n",
    "                    'width': '',\n",
    "                    'height': '',\n",
    "                    'label': 'notwaldo',\n",
    "                    'startX': '',\n",
    "                    'startY': '',\n",
    "                    'endX': '',\n",
    "                    'endY': ''\n",
    "                }\n",
    "            else:\n",
    "                # Unpack bounding box coordinates (assumed order: [startX, startY, endX, endY])\n",
    "                startX, startY, endX, endY = bbox\n",
    "                width = endX - startX\n",
    "                height = endY - startY\n",
    "                row = {\n",
    "                    'filename': filename,\n",
    "                    'width': width,\n",
    "                    'height': height,\n",
    "                    'label': 'waldo',\n",
    "                    'startX': startX,\n",
    "                    'startY': startY,\n",
    "                    'endX': endX,\n",
    "                    'endY': endY\n",
    "                }\n",
    "            writer.writerow(row)\n",
    "    print(f\"Created CSV: {csv_path}\")\n"
   ]
  }
 ],
 "metadata": {
  "kernelspec": {
   "display_name": "sp25",
   "language": "python",
   "name": "python3"
  },
  "language_info": {
   "codemirror_mode": {
    "name": "ipython",
    "version": 3
   },
   "file_extension": ".py",
   "mimetype": "text/x-python",
   "name": "python",
   "nbconvert_exporter": "python",
   "pygments_lexer": "ipython3",
   "version": "3.8.20"
  }
 },
 "nbformat": 4,
 "nbformat_minor": 2
}
