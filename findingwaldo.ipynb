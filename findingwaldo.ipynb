{
 "cells": [
  {
   "cell_type": "markdown",
   "metadata": {},
   "source": [
    "# Finding Waldo"
   ]
  },
  {
   "cell_type": "markdown",
   "metadata": {},
   "source": [
    "See ```image_processing_process.ipynb``` for details of how we preprocessed the images via chopping and cropping."
   ]
  },
  {
   "cell_type": "markdown",
   "metadata": {},
   "source": [
    "## 0. Installing and importing dependencies"
   ]
  },
  {
   "cell_type": "code",
   "execution_count": null,
   "metadata": {},
   "outputs": [],
   "source": [
    "import torch\n",
    "from torchvision.models.detection import fasterrcnn_resnet50_fpn ## Pre-trained model from PyTorch\n",
    "from torchvision.transforms import functional as F\n",
    "from PIL import Image\n",
    "import matplotlib.pyplot as plt\n",
    "import matplotlib.patches as patches\n",
    "import os\n",
    "import shutil\n",
    "\n",
    "import config\n",
    "from xml_to_csv import convert_each_xml_to_csv\n",
    "from bbox_regressor import ObjectDetector\n",
    "from custom_tensor_dataset import CustomTensorDataset\n",
    "\n",
    "import os\n",
    "import xml.etree.ElementTree as ET\n",
    "import matplotlib.pyplot as plt\n",
    "import matplotlib.patches as patches\n",
    "from PIL import Image\n",
    "from image_processing import load_annotations"
   ]
  },
  {
   "cell_type": "markdown",
   "metadata": {},
   "source": [
    "Go to ```config.py``` and ensure your data paths are properly initialized. Then check with this code block."
   ]
  },
  {
   "cell_type": "code",
   "execution_count": 3,
   "metadata": {},
   "outputs": [
    {
     "name": "stdout",
     "output_type": "stream",
     "text": [
      "Base path: /Users/laurenbeede/FindWaldo\n",
      "Annotation path: /Users/laurenbeede/FindWaldo/annotations\n",
      "Images path: /Users/laurenbeede/FindWaldo\n",
      "Ouput path: /Users/laurenbeede/FindWaldo/output\n"
     ]
    }
   ],
   "source": [
    "print(f\"Base path: {config.BASE_PATH}\")\n",
    "print(f\"Annotation path: {config.ANNOTS_PATH}\")\n",
    "print(f\"Images path: {config.IMAGES_PATH}\")\n",
    "print(f\"Ouput path: {config.BASE_OUTPUT}\")"
   ]
  },
  {
   "cell_type": "markdown",
   "metadata": {},
   "source": [
    "## 1. Data Exploration"
   ]
  },
  {
   "cell_type": "code",
   "execution_count": null,
   "metadata": {},
   "outputs": [
    {
     "name": "stdout",
     "output_type": "stream",
     "text": [
      "There are 18 images of Waldo\n",
      "There are 270 images of not Waldo\n"
     ]
    }
   ],
   "source": [
    "# Defining the current path to GitHub repo\n",
    "datapath = os.getcwd()\n",
    "\n",
    "# Check how many images of Waldo and not Waldo are in the dataset\n",
    "numnotwaldo = len(os.listdir(datapath+'/chopped-256/notwaldo/'))\n",
    "numwaldo = len(os.listdir(datapath+'/chopped-256/waldo/'))\n",
    "\n",
    "print(f\"There are {numwaldo} images of Waldo\")\n",
    "print(f\"There are {numnotwaldo} images of not Waldo\")"
   ]
  },
  {
   "cell_type": "markdown",
   "metadata": {},
   "source": [
    "Let's plot the original images of the whole scene and place the corresponding bounding box atop Waldo's location."
   ]
  },
  {
   "cell_type": "code",
   "execution_count": null,
   "metadata": {},
   "outputs": [],
   "source": [
    "# Setting the directory paths\n",
    "annotation_dir = os.getcwd() + '/annotations/bnd_box'  # Folder containing XML files from Kenstler\n",
    "images_folder = os.getcwd() + '/annotations/original_imgs'       # Folder containing original images from Kenstler\n",
    "\n",
    "# Loading the annotations from XML files\n",
    "annotations = load_annotations(annotation_dir)\n",
    "\n",
    "# Itearting over the annotations and plotting each image with its bounding box\n",
    "for filename, data in annotations.items():\n",
    "    image_path = os.path.join(images_folder, filename)\n",
    "    if not os.path.exists(image_path):\n",
    "        print(f\"Image {filename} not found.\")\n",
    "        continue\n",
    "\n",
    "    try:\n",
    "        img = Image.open(image_path)\n",
    "    except Exception as e:\n",
    "        print(f\"Could not open image {filename}: {e}\")\n",
    "        continue\n",
    "\n",
    "    # Set up the plot.\n",
    "    fig, ax = plt.subplots(1)\n",
    "    ax.imshow(img)\n",
    "\n",
    "    bbox = data.get(\"bbox\")\n",
    "    if bbox:\n",
    "        xmin, ymin, xmax, ymax = bbox\n",
    "        width = xmax - xmin\n",
    "        height = ymax - ymin\n",
    "\n",
    "        # Create a rectangle patch with red edges.\n",
    "        rect = patches.Rectangle((xmin, ymin), width, height,\n",
    "                                 linewidth=2, edgecolor='red', facecolor='none')\n",
    "        ax.add_patch(rect)\n",
    "\n",
    "    ax.set_title(filename)\n",
    "    plt.show()"
   ]
  },
  {
   "cell_type": "markdown",
   "metadata": {},
   "source": [
    "## 2. Training"
   ]
  },
  {
   "cell_type": "code",
   "execution_count": null,
   "metadata": {},
   "outputs": [],
   "source": [
    "# Runs the training script\n",
    "# This will train the model using the dataset and save the trained model to the specified path\n",
    "\n",
    "%run train.py"
   ]
  },
  {
   "cell_type": "markdown",
   "metadata": {},
   "source": [
    "## 3. Predicting"
   ]
  },
  {
   "cell_type": "code",
   "execution_count": null,
   "metadata": {},
   "outputs": [],
   "source": [
    "# Runs the prediction script\n",
    "# This will use the trained model to predict the bounding boxes for the images in the test set\n",
    "# Takes in one argument: the path to the test set\n",
    "# The test set is specified in the test_paths.txt file as an output from the train.py script\n",
    "\n",
    "%run predict.py -i /path/to/FindWaldo/output/test_paths.txt"
   ]
  }
 ],
 "metadata": {
  "kernelspec": {
   "display_name": "sp25",
   "language": "python",
   "name": "python3"
  },
  "language_info": {
   "codemirror_mode": {
    "name": "ipython",
    "version": 3
   },
   "file_extension": ".py",
   "mimetype": "text/x-python",
   "name": "python",
   "nbconvert_exporter": "python",
   "pygments_lexer": "ipython3",
   "version": "3.8.20"
  }
 },
 "nbformat": 4,
 "nbformat_minor": 2
}
